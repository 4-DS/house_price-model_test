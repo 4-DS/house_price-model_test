{
 "cells": [
  {
   "cell_type": "code",
   "execution_count": null,
   "id": "870a1090-f4ae-45a0-aa93-0960f5c6478d",
   "metadata": {
    "tags": []
   },
   "outputs": [],
   "source": [
    "%load_ext autoreload\n",
    "%autoreload 2"
   ]
  },
  {
   "cell_type": "code",
   "execution_count": null,
   "id": "453c78e8-6822-4123-bf9d-ed1ae9dd7bea",
   "metadata": {
    "tags": [
     "parameters"
    ]
   },
   "outputs": [],
   "source": [
    "# specify substep parameters for interactive run\n",
    "# this cell will be replaced during job run with the parameters from json within params subfolder\n",
    "substep_params={\n",
    "    \"rmse_threshold\": 15\n",
    "}"
   ]
  },
  {
   "cell_type": "code",
   "execution_count": null,
   "id": "c7c3906b-46d9-4ccf-b503-78aa25d0fe75",
   "metadata": {},
   "outputs": [],
   "source": [
    "# load pipeline and step parameters - do not edit\n",
    "from sinara.substep import get_pipeline_params, get_step_params\n",
    "pipeline_params = get_pipeline_params(pprint=True)\n",
    "step_params = get_step_params(pprint=True)"
   ]
  },
  {
   "cell_type": "code",
   "execution_count": null,
   "id": "f3818420-6085-43ea-b97e-578742794e1e",
   "metadata": {
    "tags": []
   },
   "outputs": [],
   "source": [
    "# define substep interface\n",
    "from sinara.substep import NotebookSubstep, NotebookSubstepRunResult, ENV_NAME, PIPELINE_NAME, ZONE_NAME, STEP_NAME, RUN_ID, ENTITY_NAME, ENTITY_PATH, SUBSTEP_NAME\n",
    "\n",
    "substep = NotebookSubstep(pipeline_params, step_params, substep_params)\n",
    "\n",
    "substep.interface(\n",
    "   \n",
    "    inputs =\n",
    "    [\n",
    "        { STEP_NAME: \"model_train\", ENTITY_NAME: \"bento_service\" },\n",
    "    ],\n",
    "    outputs = \n",
    "    [\n",
    "    ]\n",
    ")\n",
    "\n",
    "substep.print_interface_info()\n",
    "\n",
    "substep.exit_in_visualize_mode()"
   ]
  },
  {
   "cell_type": "code",
   "execution_count": null,
   "id": "55e950c3-3151-4daf-9b98-83d3aebe216d",
   "metadata": {
    "tags": []
   },
   "outputs": [],
   "source": [
    "# run spark\n",
    "from sinara.spark import SinaraSpark\n",
    "\n",
    "spark = SinaraSpark.run_session(0)\n",
    "SinaraSpark.ui_url()"
   ]
  },
  {
   "cell_type": "code",
   "execution_count": null,
   "id": "70b2d9b3-051c-424c-beec-9da8f177b4ed",
   "metadata": {
    "tags": []
   },
   "outputs": [],
   "source": [
    "# read inputs \n",
    "bento_step_inputs = substep.inputs(step_name=\"model_train\")"
   ]
  },
  {
   "cell_type": "code",
   "execution_count": null,
   "id": "04f8c516-079f-4473-8564-1cf66344872c",
   "metadata": {
    "tags": []
   },
   "outputs": [],
   "source": [
    "# Test model API\n",
    "from sinara.bentoml import start_dev_bentoservice, stop_dev_bentoservice, load_bentoservice\n",
    "from sklearn.metrics import root_mean_squared_error\n",
    "import pandas as pd\n",
    "import requests\n",
    "import json\n",
    "\n",
    "# Load BentoService\n",
    "bento_serv = load_bentoservice(bento_step_inputs.bento_service)\n",
    "\n",
    "# Stop a dev model server if running\n",
    "stop_dev_bentoservice(bento_serv)\n",
    "\n",
    "# Start a dev model server to test out the API endpoint locally\n",
    "start_dev_bentoservice(bento_serv)\n",
    "\n",
    "serv_v = json.loads(requests.post(\"http://127.0.0.1:5000/service_version\", json={}).text)\n",
    "print(serv_v)\n",
    "\n",
    "test_data = json.loads(requests.post(\"http://127.0.0.1:5000/test_data\", json={}).text)\n",
    "\n",
    "preds = json.loads(requests.post(\"http://127.0.0.1:5000/predict\", \n",
    "                                   json=test_data['X']).text)\n",
    "\n",
    "rmse = root_mean_squared_error(pd.DataFrame(test_data['Y']).values, preds)\n",
    "print(\"The root mean squared error (RMSE) on eval set: {:.4f}\".format(rmse))\n",
    "\n",
    "# Stop the dev model server\n",
    "stop_dev_bentoservice(bento_serv)"
   ]
  },
  {
   "cell_type": "code",
   "execution_count": null,
   "id": "47c68c69-46d1-48d0-a239-fac8bf36c6fa",
   "metadata": {},
   "outputs": [],
   "source": [
    "# check eval result\n",
    "rmse_threshold = substep_params[\"rmse_threshold\"]\n",
    "if rmse > rmse_threshold:\n",
    "    raise Exception(f'RMSE is {rmse}, more than acceptable value of {rmse_threshold}')"
   ]
  },
  {
   "cell_type": "code",
   "execution_count": null,
   "id": "82ef2430-57f2-42f4-a435-f50e1edd2c0b",
   "metadata": {
    "tags": []
   },
   "outputs": [],
   "source": [
    "# stop spark\n",
    "SinaraSpark.stop_session()"
   ]
  }
 ],
 "metadata": {
  "kernelspec": {
   "display_name": "ml",
   "language": "python",
   "name": "python3"
  },
  "language_info": {
   "codemirror_mode": {
    "name": "ipython",
    "version": 3
   },
   "file_extension": ".py",
   "mimetype": "text/x-python",
   "name": "python",
   "nbconvert_exporter": "python",
   "pygments_lexer": "ipython3",
   "version": "3.10.12"
  }
 },
 "nbformat": 4,
 "nbformat_minor": 5
}
